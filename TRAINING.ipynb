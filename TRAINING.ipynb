{
 "cells": [
  {
   "cell_type": "code",
   "execution_count": 214,
   "metadata": {},
   "outputs": [],
   "source": [
    "#Import necessary libraries\n",
    "import pandas as pd \n",
    "import numpy as np \n",
    "from tqdm import tqdm\n",
    "from sklearn.model_selection import train_test_split\n",
    "from sklearn.metrics import accuracy_score\n",
    "from sklearn.model_selection import cross_val_score\n",
    "from sklearn.metrics import f1_score, precision_score, recall_score, classification_report\n",
    "\n"
   ]
  },
  {
   "cell_type": "code",
   "execution_count": 234,
   "metadata": {},
   "outputs": [
    {
     "ename": "AttributeError",
     "evalue": "module 'collections' has no attribute '__version__'",
     "output_type": "error",
     "traceback": [
      "\u001b[1;31m---------------------------------------------------------------------------\u001b[0m",
      "\u001b[1;31mAttributeError\u001b[0m                            Traceback (most recent call last)",
      "Cell \u001b[1;32mIn[234], line 2\u001b[0m\n\u001b[0;32m      1\u001b[0m \u001b[38;5;28;01mimport\u001b[39;00m \u001b[38;5;21;01mcollections\u001b[39;00m\n\u001b[1;32m----> 2\u001b[0m \u001b[38;5;28mprint\u001b[39m(\u001b[43mcollections\u001b[49m\u001b[38;5;241;43m.\u001b[39;49m\u001b[43m__version__\u001b[49m)\n",
      "\u001b[1;31mAttributeError\u001b[0m: module 'collections' has no attribute '__version__'"
     ]
    }
   ],
   "source": [
    "import collections\n",
    "print(collections.__version__)"
   ]
  },
  {
   "cell_type": "code",
   "execution_count": 215,
   "metadata": {},
   "outputs": [],
   "source": [
    "#Load the data\n",
    "data = pd.read_csv('trainingdata.csv') #Change to trainingsdata_nan.csv for the data without NAN professions"
   ]
  },
  {
   "cell_type": "code",
   "execution_count": 216,
   "metadata": {},
   "outputs": [
    {
     "name": "stderr",
     "output_type": "stream",
     "text": [
      "C:\\Users\\20202719\\AppData\\Local\\Temp\\ipykernel_31996\\3361672665.py:2: SettingWithCopyWarning: \n",
      "A value is trying to be set on a copy of a slice from a DataFrame\n",
      "\n",
      "See the caveats in the documentation: https://pandas.pydata.org/pandas-docs/stable/user_guide/indexing.html#returning-a-view-versus-a-copy\n",
      "  X.drop(columns='outofhouse', inplace=True) #Exclude outofhouse due to correlation with outhousework\n"
     ]
    }
   ],
   "source": [
    "X = data[data.columns[1:-2]] #Define the necessary features\n",
    "X.drop(columns='outofhouse', inplace=True) #Exclude outofhouse due to correlation with outhousework\n",
    "y = data['test'] #Define the outcome variable\n",
    "X_train, X_test, y_train, y_test = train_test_split(X, y,  test_size = 0.2, stratify = y, random_state=42) #Split the data into equal proportions of the classes\n",
    "\n",
    " \n",
    "#transform X_train and X_test with log transformation\n",
    "X_train_log = np.log1p(X_train) \n",
    "X_test_log = np.log1p(X_test)"
   ]
  },
  {
   "cell_type": "code",
   "execution_count": 217,
   "metadata": {},
   "outputs": [
    {
     "name": "stdout",
     "output_type": "stream",
     "text": [
      "Before Counter({0.0: 1152, 1.0: 354})\n",
      "After Counter({0.0: 1152, 1.0: 1152})\n"
     ]
    }
   ],
   "source": [
    "#Implement SMOTE (Preliminary testing)\n",
    "from imblearn.over_sampling import SMOTE\n",
    "\n",
    "smt = SMOTE()\n",
    "X_train_smote, y_train_smote = smt.fit_resample(X_train, y_train) #Normal data\n",
    "X_train_smote_log, y_train_smote_log = smt.fit_resample(X_train_log, y_train) #Log transformed data"
   ]
  },
  {
   "cell_type": "code",
   "execution_count": 218,
   "metadata": {},
   "outputs": [],
   "source": [
    "#Assign manual weights to the classes\n",
    "#Define the class weights of each class (using the formula: n_samples / (n_classes * np.bincount(y)))\n",
    "class_weight_0 = len(y) / (2 * np.bincount(y)[0]) \n",
    "class_weight_1 = len(y) / (2 * np.bincount(y)[1])\n",
    "\n",
    "class_weights = {0: class_weight_0, 1: class_weight_1}\n"
   ]
  },
  {
   "cell_type": "code",
   "execution_count": 219,
   "metadata": {},
   "outputs": [
    {
     "data": {
      "text/html": [
       "<div>\n",
       "<style scoped>\n",
       "    .dataframe tbody tr th:only-of-type {\n",
       "        vertical-align: middle;\n",
       "    }\n",
       "\n",
       "    .dataframe tbody tr th {\n",
       "        vertical-align: top;\n",
       "    }\n",
       "\n",
       "    .dataframe thead th {\n",
       "        text-align: right;\n",
       "    }\n",
       "</style>\n",
       "<table border=\"1\" class=\"dataframe\">\n",
       "  <thead>\n",
       "    <tr style=\"text-align: right;\">\n",
       "      <th></th>\n",
       "      <th>numberpersons150cm</th>\n",
       "      <th>numberpersons150cmspoken</th>\n",
       "      <th>numberpersons5m</th>\n",
       "      <th>outhousework</th>\n",
       "    </tr>\n",
       "  </thead>\n",
       "  <tbody>\n",
       "    <tr>\n",
       "      <th>numberpersons150cm</th>\n",
       "      <td>1.000000</td>\n",
       "      <td>0.631620</td>\n",
       "      <td>0.606499</td>\n",
       "      <td>0.334049</td>\n",
       "    </tr>\n",
       "    <tr>\n",
       "      <th>numberpersons150cmspoken</th>\n",
       "      <td>0.631620</td>\n",
       "      <td>1.000000</td>\n",
       "      <td>0.325870</td>\n",
       "      <td>0.313187</td>\n",
       "    </tr>\n",
       "    <tr>\n",
       "      <th>numberpersons5m</th>\n",
       "      <td>0.606499</td>\n",
       "      <td>0.325870</td>\n",
       "      <td>1.000000</td>\n",
       "      <td>0.256100</td>\n",
       "    </tr>\n",
       "    <tr>\n",
       "      <th>outhousework</th>\n",
       "      <td>0.334049</td>\n",
       "      <td>0.313187</td>\n",
       "      <td>0.256100</td>\n",
       "      <td>1.000000</td>\n",
       "    </tr>\n",
       "  </tbody>\n",
       "</table>\n",
       "</div>"
      ],
      "text/plain": [
       "                          numberpersons150cm  numberpersons150cmspoken  \\\n",
       "numberpersons150cm                  1.000000                  0.631620   \n",
       "numberpersons150cmspoken            0.631620                  1.000000   \n",
       "numberpersons5m                     0.606499                  0.325870   \n",
       "outhousework                        0.334049                  0.313187   \n",
       "\n",
       "                          numberpersons5m  outhousework  \n",
       "numberpersons150cm               0.606499      0.334049  \n",
       "numberpersons150cmspoken         0.325870      0.313187  \n",
       "numberpersons5m                  1.000000      0.256100  \n",
       "outhousework                     0.256100      1.000000  "
      ]
     },
     "execution_count": 219,
     "metadata": {},
     "output_type": "execute_result"
    }
   ],
   "source": [
    "#Calculate the correlation matrix of all features\n",
    "correlation_matrix = X_train.corr()\n",
    "correlation_matrix"
   ]
  },
  {
   "cell_type": "markdown",
   "metadata": {},
   "source": [
    "### Random forest"
   ]
  },
  {
   "cell_type": "code",
   "execution_count": 230,
   "metadata": {},
   "outputs": [
    {
     "name": "stdout",
     "output_type": "stream",
     "text": [
      "Random forest Accuracy: 0.7320954907161804\n",
      "Random forest F1 score: 0.1512605042016807\n",
      "Random forest Precision: 0.2903225806451613\n",
      "Random forest Recall: 0.10227272727272728\n",
      "Mean cross-validation precision: 0.3649047619047619\n"
     ]
    }
   ],
   "source": [
    "#Implementation of the random forest models\n",
    "from sklearn.ensemble import RandomForestClassifier\n",
    "\n",
    "#Define the classifier\n",
    "clf = RandomForestClassifier(n_estimators=100, random_state=42, class_weight='balanced_subsample') #number of trees = 100\n",
    " \n",
    "#Fit the classifier on the training data\n",
    "clf.fit(X_train, y_train) #Adjust to the training data that needs to be used\n",
    "\n",
    "#Predict on the test data\n",
    "y_pred_clf = clf.predict(X_test) #Create the prediction using the test set\n",
    "\n",
    "#Calculate the accuracy\n",
    "accuracy_clf = accuracy_score(y_test, y_pred_clf)\n",
    "print(f'Random forest Accuracy: {accuracy_clf}')\n",
    "\n",
    "#Calculate the F1 score\n",
    "f1_clf = f1_score(y_test, y_pred_clf)\n",
    "print(f'Random forest F1 score: {f1_clf}')\n",
    "\n",
    "#Calculate the precision\n",
    "precision_clf = precision_score(y_test, y_pred_clf)\n",
    "print(f'Random forest Precision: {precision_clf}')\n",
    "\n",
    "#Calculate the recall\n",
    "recall_clf = recall_score(y_test, y_pred_clf)\n",
    "print(f'Random forest Recall: {recall_clf}')\n",
    "\n",
    "\n",
    "#Perform cross-validation\n",
    "cv_scores_clf = cross_val_score(clf, X_train, y_train, cv=5, scoring='precision') #Cross validation precision\n",
    "print(f'Mean cross-validation precision: {cv_scores_clf.mean()}')\n",
    "\n"
   ]
  },
  {
   "cell_type": "code",
   "execution_count": 231,
   "metadata": {},
   "outputs": [
    {
     "data": {
      "text/plain": [
       "Text(0.5, 1.0, 'Confusion matrix of the normal subtree-balanced random forest model')"
      ]
     },
     "execution_count": 231,
     "metadata": {},
     "output_type": "execute_result"
    },
    {
     "data": {
      "image/png": "[encoded data removed]",
      "text/plain": [
       "<Figure size 500x400 with 2 Axes>"
      ]
     },
     "metadata": {},
     "output_type": "display_data"
    }
   ],
   "source": [
    "#plot confusion matrix of the model\n",
    "from sklearn.metrics import confusion_matrix\n",
    "import matplotlib.pyplot as plt\n",
    "import seaborn as sns\n",
    "\n",
    "conf_matrix = confusion_matrix(y_test, y_pred_clf)\n",
    "df_confmat = pd.DataFrame(conf_matrix, index = ['Actual negative', 'Actual positive'], columns = ['Predicted negative', 'Predicted positive'])\n",
    "plt.figure(figsize=(5, 4))\n",
    "sns.heatmap(df_confmat, annot=True, fmt=\"d\")\n",
    "\n",
    "plt.title('Confusion matrix of the normal subtree-balanced random forest model')"
   ]
  },
  {
   "cell_type": "code",
   "execution_count": null,
   "metadata": {},
   "outputs": [
    {
     "name": "stdout",
     "output_type": "stream",
     "text": [
      "Training precision: 0.9870689655172413\n"
     ]
    }
   ],
   "source": [
    "#Calculate training precision\n",
    "train_pred = clf.predict(X_train_smote_log)\n",
    "train_precision = precision_score(y_train_smote_log, train_pred)\n",
    "print(f'Training precision: {train_precision}')"
   ]
  },
  {
   "cell_type": "code",
   "execution_count": null,
   "metadata": {},
   "outputs": [
    {
     "data": {
      "image/png": "[encoded data removed]",
      "text/plain": [
       "<Figure size 640x480 with 1 Axes>"
      ]
     },
     "metadata": {},
     "output_type": "display_data"
    }
   ],
   "source": [
    "#Feature evaluation\n",
    "import matplotlib.pyplot as plt\n",
    "\n",
    "#Get feature importances\n",
    "importances = clf.feature_importances_\n",
    "\n",
    "#Get feature names\n",
    "feature_names = X_train.columns\n",
    "\n",
    "#Create dataframe for visualization\n",
    "feature_importances = pd.DataFrame({'Feature': feature_names, 'Importance': importances})\n",
    "\n",
    "#Sort the data by importance\n",
    "feature_importances = feature_importances.sort_values(by='Importance', ascending=True)\n",
    "\n",
    "# Plot the sorted feature importances\n",
    "plt.barh(feature_importances['Feature'], feature_importances['Importance'])\n",
    "plt.xlabel('Importance')\n",
    "plt.ylabel('Feature')\n",
    "plt.title('Feature Importance for the balanced, log-transformed Random Forest Classifier')\n",
    "plt.show()\n",
    "\n"
   ]
  },
  {
   "cell_type": "markdown",
   "metadata": {},
   "source": [
    "### Logistic regression"
   ]
  },
  {
   "cell_type": "code",
   "execution_count": 224,
   "metadata": {},
   "outputs": [
    {
     "name": "stdout",
     "output_type": "stream",
     "text": [
      "lr Accuracy: 0.5729442970822282\n",
      "lr F1 Score: 0.3924528301886792\n",
      "lr Precision: 0.2937853107344633\n",
      "lr Recall: 0.5909090909090909\n",
      "Cross-validated precision: 0.2625541429154107\n",
      "[0.20987654320987653, 0.30392156862745096, 0.34, 0.185, 0.273972602739726]\n"
     ]
    }
   ],
   "source": [
    "#Implementation of the logistic regression models\n",
    "import statsmodels.api as sm\n",
    "\n",
    "\n",
    "# Fit the Logistic regression model and add weights\n",
    "freqweights = y_train.map(class_weights) #Map the manual class weights to the training y data\n",
    "X_test_const = sm.add_constant(X_test) #Add intercept to test data\n",
    "y_train.reset_index(drop=True, inplace=True) \n",
    "\n",
    "X_train_const = sm.add_constant(X_train)  #Add intercept to training data\n",
    "X_train_const.reset_index(drop=True, inplace=True)\n",
    "\n",
    "#Add intercept to the SMOTE data\n",
    "X_train_smote_const = sm.add_constant(X_train_smote)\n",
    "X_train_smote_log_const = sm.add_constant(X_train_smote_log)\n",
    "\n",
    "#Add intercept to the log transformed data\n",
    "X_train_const_log = np.log1p(X_train_const)  \n",
    "X_test_const_log = np.log1p(X_test_const)\n",
    "\n",
    "#Change according to which data needs to be used\n",
    "training_data = X_train_const_log\n",
    "testing_data = X_test_const_log\n",
    "\n",
    "lr = sm.GLM(y_train, training_data, family=sm.families.Binomial(), freq_weights= freqweights) #Initialize the Logistic regression\n",
    "lr_results = lr.fit()\n",
    "\n",
    "\n",
    "# Calculate all metrics previously calculated for other models\n",
    "testing_data.reset_index(drop=True, inplace=True)\n",
    "yhat = lr_results.predict(testing_data)\n",
    "prediction = list(map(round, yhat))\n",
    "accuracy = accuracy_score(y_test, prediction)\n",
    "print(f'lr Accuracy: {accuracy}')\n",
    "\n",
    "f1 = f1_score(y_test, prediction)\n",
    "print(f'lr F1 Score: {f1}')\n",
    "\n",
    "precision = precision_score(y_test, prediction)\n",
    "print(f'lr Precision: {precision}')\n",
    "\n",
    "recall = recall_score(y_test, prediction)\n",
    "print(f'lr Recall: {recall}')\n",
    "\n",
    "import statsmodels.api as sm\n",
    "from sklearn.base import BaseEstimator, RegressorMixin\n",
    "from sklearn.model_selection import KFold\n",
    "from sklearn.metrics import precision_score\n",
    "import numpy as np\n",
    "\n",
    "class SMWrapper(BaseEstimator, RegressorMixin): #Wrapper for the statsmodels logistic regression model to calculate cross validation precision\n",
    "    \"\"\"A universal sklearn-style wrapper for statsmodels regressors.\"\"\" #Source: https://stackoverflow.com/questions/41045752/using-statsmodel-estimations-with-scikit-learn-cross-validation-is-it-possible\n",
    "    def __init__(self, model_class, fit_intercept=True, **kwargs):\n",
    "        self.model_class = model_class\n",
    "        self.fit_intercept = fit_intercept\n",
    "        self.model_kwargs = kwargs\n",
    "        self.freq_weights = None #Define later\n",
    "\n",
    "    def fit(self, X, y):\n",
    "        if self.fit_intercept:\n",
    "            X = sm.add_constant(X)\n",
    "        self.model_ = self.model_class(y, X, freq_weights=self.freq_weights, **self.model_kwargs)\n",
    "        self.results_ = self.model_.fit()\n",
    "        return self\n",
    "\n",
    "    def predict(self, X):\n",
    "        if self.fit_intercept:\n",
    "            X = sm.add_constant(X)\n",
    "        predictions = self.results_.predict(X)\n",
    "        # Convert probabilities to binary predictions for classification\n",
    "        if isinstance(self.model_, sm.GLM) and isinstance(self.model_.family, sm.families.Binomial):\n",
    "            return (predictions > 0.5).astype(int)\n",
    "        return predictions\n",
    "\n",
    "\n",
    "# Initialize the statsmodels wrapper\n",
    "model_wrapper = SMWrapper(model_class=sm.GLM, family=sm.families.Binomial())\n",
    "\n",
    "# Use KFold for cross-validation (similar to random forest cross validation)\n",
    "kf = KFold(n_splits=5, shuffle=True, random_state=42)\n",
    "precision_scores = [] #List for precision scores of each fold\n",
    "\n",
    "for train_index, test_index in kf.split(training_data):\n",
    "    # Split the data for this fold\n",
    "    training_data.reset_index(drop=True, inplace=True)\n",
    "    X_train_fold, X_test_fold = training_data.iloc[train_index], training_data.iloc[test_index]\n",
    "    y_train_smote.reset_index(drop=True, inplace=True)\n",
    "    y_train_fold, y_test_fold = y_train_smote[train_index], y_train_smote[test_index]\n",
    "    freqweights.reset_index(drop=True, inplace=True)\n",
    "    freq_weights_train = freqweights[train_index]  #Remove # when class weights are being used\n",
    "\n",
    "    #train the model with frequency weights\n",
    "    model_wrapper.freq_weights = freq_weights_train #Remove # when class weights are being used\n",
    "    model_wrapper.fit(X_train_fold, y_train_fold)\n",
    "    \n",
    "    #Predict on the test set\n",
    "    predictions = model_wrapper.predict(X_test_fold)\n",
    "    \n",
    "    #Calculate precision for this fold\n",
    "    precision = precision_score(y_test_fold, predictions)\n",
    "    precision_scores.append(precision)\n",
    "\n",
    "#Calculate mean precision\n",
    "mean_precision = np.mean(precision_scores)\n",
    "print(\"Cross-validated precision:\", mean_precision)\n",
    "print(precision_scores)\n"
   ]
  },
  {
   "cell_type": "code",
   "execution_count": 225,
   "metadata": {},
   "outputs": [
    {
     "data": {
      "text/html": [
       "<table class=\"simpletable\">\n",
       "<caption>Generalized Linear Model Regression Results</caption>\n",
       "<tr>\n",
       "  <th>Dep. Variable:</th>         <td>test</td>       <th>  No. Observations:  </th>  <td>  1506</td> \n",
       "</tr>\n",
       "<tr>\n",
       "  <th>Model:</th>                  <td>GLM</td>       <th>  Df Residuals:      </th> <td> 1501.73</td>\n",
       "</tr>\n",
       "<tr>\n",
       "  <th>Model Family:</th>        <td>Binomial</td>     <th>  Df Model:          </th>  <td>     4</td> \n",
       "</tr>\n",
       "<tr>\n",
       "  <th>Link Function:</th>         <td>Logit</td>      <th>  Scale:             </th> <td>  1.0000</td>\n",
       "</tr>\n",
       "<tr>\n",
       "  <th>Method:</th>                <td>IRLS</td>       <th>  Log-Likelihood:    </th> <td> -1033.6</td>\n",
       "</tr>\n",
       "<tr>\n",
       "  <th>Date:</th>            <td>Tue, 14 Jan 2025</td> <th>  Deviance:          </th> <td>  2067.2</td>\n",
       "</tr>\n",
       "<tr>\n",
       "  <th>Time:</th>                <td>11:44:06</td>     <th>  Pearson chi2:      </th> <td>1.51e+03</td>\n",
       "</tr>\n",
       "<tr>\n",
       "  <th>No. Iterations:</th>          <td>4</td>        <th>  Pseudo R-squ. (CS):</th>  <td>0.01425</td>\n",
       "</tr>\n",
       "<tr>\n",
       "  <th>Covariance Type:</th>     <td>nonrobust</td>    <th>                     </th>     <td> </td>   \n",
       "</tr>\n",
       "</table>\n",
       "<table class=\"simpletable\">\n",
       "<tr>\n",
       "              <td></td>                <th>coef</th>     <th>std err</th>      <th>z</th>      <th>P>|z|</th>  <th>[0.025</th>    <th>0.975]</th>  \n",
       "</tr>\n",
       "<tr>\n",
       "  <th>const</th>                    <td>    0.2187</td> <td>    0.205</td> <td>    1.065</td> <td> 0.287</td> <td>   -0.184</td> <td>    0.621</td>\n",
       "</tr>\n",
       "<tr>\n",
       "  <th>numberpersons150cm</th>       <td>    0.3445</td> <td>    0.102</td> <td>    3.364</td> <td> 0.001</td> <td>    0.144</td> <td>    0.545</td>\n",
       "</tr>\n",
       "<tr>\n",
       "  <th>numberpersons150cmspoken</th> <td>   -0.0159</td> <td>    0.101</td> <td>   -0.157</td> <td> 0.875</td> <td>   -0.214</td> <td>    0.183</td>\n",
       "</tr>\n",
       "<tr>\n",
       "  <th>numberpersons5m</th>          <td>   -0.7914</td> <td>    0.236</td> <td>   -3.360</td> <td> 0.001</td> <td>   -1.253</td> <td>   -0.330</td>\n",
       "</tr>\n",
       "<tr>\n",
       "  <th>outhousework</th>             <td>    0.4348</td> <td>    0.262</td> <td>    1.661</td> <td> 0.097</td> <td>   -0.078</td> <td>    0.948</td>\n",
       "</tr>\n",
       "</table>"
      ],
      "text/latex": [
       "\\begin{center}\n",
       "\\begin{tabular}{lclc}\n",
       "\\toprule\n",
       "\\textbf{Dep. Variable:}           &       test       & \\textbf{  No. Observations:  } &     1506    \\\\\n",
       "\\textbf{Model:}                   &       GLM        & \\textbf{  Df Residuals:      } &   1501.73   \\\\\n",
       "\\textbf{Model Family:}            &     Binomial     & \\textbf{  Df Model:          } &        4    \\\\\n",
       "\\textbf{Link Function:}           &      Logit       & \\textbf{  Scale:             } &    1.0000   \\\\\n",
       "\\textbf{Method:}                  &       IRLS       & \\textbf{  Log-Likelihood:    } &   -1033.6   \\\\\n",
       "\\textbf{Date:}                    & Tue, 14 Jan 2025 & \\textbf{  Deviance:          } &    2067.2   \\\\\n",
       "\\textbf{Time:}                    &     11:44:06     & \\textbf{  Pearson chi2:      } &  1.51e+03   \\\\\n",
       "\\textbf{No. Iterations:}          &        4         & \\textbf{  Pseudo R-squ. (CS):} &  0.01425    \\\\\n",
       "\\textbf{Covariance Type:}         &    nonrobust     & \\textbf{                     } &             \\\\\n",
       "\\bottomrule\n",
       "\\end{tabular}\n",
       "\\begin{tabular}{lcccccc}\n",
       "                                  & \\textbf{coef} & \\textbf{std err} & \\textbf{z} & \\textbf{P$> |$z$|$} & \\textbf{[0.025} & \\textbf{0.975]}  \\\\\n",
       "\\midrule\n",
       "\\textbf{const}                    &       0.2187  &        0.205     &     1.065  &         0.287        &       -0.184    &        0.621     \\\\\n",
       "\\textbf{numberpersons150cm}       &       0.3445  &        0.102     &     3.364  &         0.001        &        0.144    &        0.545     \\\\\n",
       "\\textbf{numberpersons150cmspoken} &      -0.0159  &        0.101     &    -0.157  &         0.875        &       -0.214    &        0.183     \\\\\n",
       "\\textbf{numberpersons5m}          &      -0.7914  &        0.236     &    -3.360  &         0.001        &       -1.253    &       -0.330     \\\\\n",
       "\\textbf{outhousework}             &       0.4348  &        0.262     &     1.661  &         0.097        &       -0.078    &        0.948     \\\\\n",
       "\\bottomrule\n",
       "\\end{tabular}\n",
       "%\\caption{Generalized Linear Model Regression Results}\n",
       "\\end{center}"
      ],
      "text/plain": [
       "<class 'statsmodels.iolib.summary.Summary'>\n",
       "\"\"\"\n",
       "                 Generalized Linear Model Regression Results                  \n",
       "==============================================================================\n",
       "Dep. Variable:                   test   No. Observations:                 1506\n",
       "Model:                            GLM   Df Residuals:                  1501.73\n",
       "Model Family:                Binomial   Df Model:                            4\n",
       "Link Function:                  Logit   Scale:                          1.0000\n",
       "Method:                          IRLS   Log-Likelihood:                -1033.6\n",
       "Date:                Tue, 14 Jan 2025   Deviance:                       2067.2\n",
       "Time:                        11:44:06   Pearson chi2:                 1.51e+03\n",
       "No. Iterations:                     4   Pseudo R-squ. (CS):            0.01425\n",
       "Covariance Type:            nonrobust                                         \n",
       "============================================================================================\n",
       "                               coef    std err          z      P>|z|      [0.025      0.975]\n",
       "--------------------------------------------------------------------------------------------\n",
       "const                        0.2187      0.205      1.065      0.287      -0.184       0.621\n",
       "numberpersons150cm           0.3445      0.102      3.364      0.001       0.144       0.545\n",
       "numberpersons150cmspoken    -0.0159      0.101     -0.157      0.875      -0.214       0.183\n",
       "numberpersons5m             -0.7914      0.236     -3.360      0.001      -1.253      -0.330\n",
       "outhousework                 0.4348      0.262      1.661      0.097      -0.078       0.948\n",
       "============================================================================================\n",
       "\"\"\""
      ]
     },
     "execution_count": 225,
     "metadata": {},
     "output_type": "execute_result"
    }
   ],
   "source": [
    "#Show the summary of the logistic regression model\n",
    "lr_results.summary()"
   ]
  },
  {
   "cell_type": "code",
   "execution_count": 213,
   "metadata": {},
   "outputs": [
    {
     "name": "stdout",
     "output_type": "stream",
     "text": [
      "Training precision: 0.5357458075904677\n"
     ]
    }
   ],
   "source": [
    "#Calculate the training precision\n",
    "train_pred_lr = lr_results.predict(training_data)\n",
    "train_pred_lr = list(map(round, train_pred_lr))\n",
    "train_precision_lr = precision_score(y_train_smote, train_pred_lr)\n",
    "print(f'Training precision: {train_precision_lr}')"
   ]
  },
  {
   "cell_type": "code",
   "execution_count": 226,
   "metadata": {},
   "outputs": [
    {
     "data": {
      "text/plain": [
       "Text(0.5, 1.0, 'Confusion matrix of the log transformed balanced logistic regression model')"
      ]
     },
     "execution_count": 226,
     "metadata": {},
     "output_type": "execute_result"
    },
    {
     "data": {
      "image/png": "[encoded data removed]",
      "text/plain": [
       "<Figure size 800x600 with 2 Axes>"
      ]
     },
     "metadata": {},
     "output_type": "display_data"
    }
   ],
   "source": [
    "#Make a confusion matrix of the model\n",
    "from sklearn.metrics import confusion_matrix\n",
    "import matplotlib.pyplot as plt\n",
    "import seaborn as sns\n",
    "\n",
    "#Create a confusion matrix\n",
    "conf_matrix = confusion_matrix(y_test, prediction)\n",
    "\n",
    "#Create a dataframe for the confusion matrix\n",
    "conf_matrix_df = pd.DataFrame(conf_matrix, columns=['Predicted Negative', 'Predicted Positive'], index=['Actual Negative', 'Actual Positive'])\n",
    "\n",
    "#Create a heatmap of the confusion matrix\n",
    "plt.figure(figsize=(8, 6))\n",
    "sns.heatmap(conf_matrix_df, annot=True, fmt='d')\n",
    "plt.title('Confusion matrix of the log transformed balanced logistic regression model')"
   ]
  }
 ],
 "metadata": {
  "kernelspec": {
   "display_name": "Python 3",
   "language": "python",
   "name": "python3"
  },
  "language_info": {
   "codemirror_mode": {
    "name": "ipython",
    "version": 3
   },
   "file_extension": ".py",
   "mimetype": "text/x-python",
   "name": "python",
   "nbconvert_exporter": "python",
   "pygments_lexer": "ipython3",
   "version": "3.11.4"
  }
 },
 "nbformat": 4,
 "nbformat_minor": 2
}
